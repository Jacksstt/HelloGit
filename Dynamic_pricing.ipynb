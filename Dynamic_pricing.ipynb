{
  "nbformat": 4,
  "nbformat_minor": 0,
  "metadata": {
    "colab": {
      "provenance": [],
      "authorship_tag": "ABX9TyOk2A+D1bTo3jmtGdwJsDQV",
      "include_colab_link": true
    },
    "kernelspec": {
      "name": "python3",
      "display_name": "Python 3"
    },
    "language_info": {
      "name": "python"
    }
  },
  "cells": [
    {
      "cell_type": "markdown",
      "metadata": {
        "id": "view-in-github",
        "colab_type": "text"
      },
      "source": [
        "<a href=\"https://colab.research.google.com/github/Jacksstt/HelloGit/blob/main/Dynamic_pricing.ipynb\" target=\"_parent\"><img src=\"https://colab.research.google.com/assets/colab-badge.svg\" alt=\"Open In Colab\"/></a>"
      ]
    },
    {
      "cell_type": "code",
      "execution_count": null,
      "metadata": {
        "id": "vvyEKcknrmkR"
      },
      "outputs": [],
      "source": [
        "! pip install pandas\n",
        "! pip install numpy\n",
        "! pip install prophet\n"
      ]
    },
    {
      "cell_type": "code",
      "source": [
        "\n",
        "import os\n",
        "assert os.path.exists(\"dataset/calendar.csv\"), \"データセットのダウンロードに失敗しています\"\n",
        "assert os.path.exists(\"dataset/listings.csv\"), \"データセットのダウンロードに失敗しています\"\n",
        "assert os.path.exists(\"dataset/reviews.csv\"), \"データセットのダウンロードに失敗しています\"\n"
      ],
      "metadata": {
        "id": "g8cPKzEfrtHJ"
      },
      "execution_count": 9,
      "outputs": []
    },
    {
      "cell_type": "code",
      "source": [
        "from pathlib import Path\n",
        "import numpy\n",
        "import pandas\n",
        "\n",
        "OUTPUT_PATH = Path(\"output\")\n",
        "OUTPUT_PATH.mkdir(exist_ok=True)\n",
        "\n",
        "calendar = pandas.read_csv(\"dataset/calendar.csv\")\n",
        "\n",
        "import datetime\n",
        "# カラムの説明\n",
        "# listing_id: 物件ID\n",
        "# date: 日付\n",
        "# available: 利用可能かどうか, 't'なら利用可能, 'f'なら利用不可能\n",
        "# price: 利用価格, availableが't'の場合のみ値が入っている\n",
        "def float_price(x):\n",
        "    if isinstance(x, str):\n",
        "        x = x.replace(\",\", \"\")\n",
        "        return float(x[1:])\n",
        "    elif numpy.isnan(x):\n",
        "        return None\n",
        "    raise\n",
        "\n",
        "# 0が月曜日, 6が日曜日\n",
        "calendar[\"weekday\"] = calendar[\"date\"].apply(lambda x: datetime.datetime.strptime(x, \"%Y-%m-%d\").weekday())\n",
        "calendar[\"price\"] = calendar[\"price\"].apply(lambda x: float_price(x))\n",
        "calendar[\"count\"] = 1\n",
        "calendar.head(10)\n"
      ],
      "metadata": {
        "id": "gXTHYlGXxJ4M"
      },
      "execution_count": null,
      "outputs": []
    },
    {
      "cell_type": "code",
      "source": [
        "stat = calendar.groupby(by=[\"listing_id\"])[\"price\"].unique().reset_index()\n",
        "count = calendar[calendar[\"available\"] == \"t\"].groupby(\"listing_id\")[\"count\"].sum().reset_index()\n",
        "stat[\"price_count\"] = stat[\"price\"].apply(lambda x: len(x))\n",
        "stat = stat.merge(count, on=\"listing_id\", how=\"inner\")\n",
        "stat.sort_values(by=[\"count\", \"price_count\"], ascending=False).head(10)\n"
      ],
      "metadata": {
        "id": "YmXUFzFQyGRb"
      },
      "execution_count": null,
      "outputs": []
    },
    {
      "cell_type": "code",
      "source": [
        "listing_id = 1251707\n",
        "target_calendar = calendar[calendar[\"listing_id\"] == listing_id].drop([\"available\", \"count\"], axis=1)\n",
        "target_calendar.to_csv(\"output/origin.csv\", index=False)\n",
        "del calendar\n"
      ],
      "metadata": {
        "id": "lsTqx3lmyKkY"
      },
      "execution_count": 12,
      "outputs": []
    },
    {
      "cell_type": "code",
      "source": [
        "import random\n",
        "random.seed(1)\n",
        "# week_id: 週番号\n",
        "week_id_list = []\n",
        "week_id = 0\n",
        "for i, row in target_calendar.iterrows():\n",
        "    if row[\"weekday\"] == 0:\n",
        "        week_id += 1\n",
        "    week_id_list.append(week_id)\n",
        "target_calendar[\"week_id\"] = week_id_list\n",
        "\n",
        "# order: 注文数\n",
        "order_list = []\n",
        "for i, row in target_calendar.iterrows():\n",
        "    week_id = row[\"week_id\"]\n",
        "    price = row[\"price\"]\n",
        "    trend = week_id * 2\n",
        "    weekday_trend = 30 if row[\"weekday\"] in [5, 6] else 0\n",
        "    price_regression = (price - 150) * (-0.5)\n",
        "    rand = random.random() * 30\n",
        "    order = trend + weekday_trend + price_regression + rand\n",
        "    order_list.append(order)\n",
        "target_calendar[\"order\"] = order_list\n",
        "\n",
        "target_calendar.to_csv(\"output/target_calendar.csv\", index=False)\n"
      ],
      "metadata": {
        "id": "byPeaPBtyNlr"
      },
      "execution_count": 13,
      "outputs": []
    },
    {
      "cell_type": "code",
      "source": [
        "from prophet import Prophet\n",
        "target_calendar[\"ds\"] = target_calendar[\"date\"].apply(lambda x: datetime.datetime.strptime(x, \"%Y-%m-%d\"))\n",
        "target_calendar[\"y\"] = target_calendar[\"order\"]\n"
      ],
      "metadata": {
        "id": "0ryvR6QRyRjD"
      },
      "execution_count": 14,
      "outputs": []
    },
    {
      "cell_type": "code",
      "source": [
        "train_range = 10 # 学習に使うデータ数（10週間分）\n",
        "predict_range = 1 # 予測するデータ数(1週間分)\n",
        "start_week_id = 1\n",
        "pred_df_list = []\n",
        "for i in range(40):\n",
        "    end_week_id = start_week_id + train_range\n",
        "    predict_week_id = end_week_id + predict_range\n",
        "    # 学習に使うデータをweek_idを使って絞る\n",
        "    train_df = target_calendar[target_calendar[\"week_id\"].apply(lambda x: start_week_id <= x <= end_week_id)]\n",
        "    # 予測に使うデータをweek_idを使って絞る\n",
        "    predict_df = target_calendar[target_calendar[\"week_id\"] == predict_week_id]\n",
        "    model = Prophet(weekly_seasonality=True)\n",
        "    model.add_regressor(\"price\")\n",
        "    # 学習\n",
        "    model.fit(train_df)\n",
        "    # 予測, yhatが予測値\n",
        "    pred = model.predict(predict_df)[[\"ds\", \"yhat\"]]\n",
        "    pred_df_list.append(pred)\n",
        "    start_week_id += 1\n"
      ],
      "metadata": {
        "id": "SGekIZEsyUlT"
      },
      "execution_count": null,
      "outputs": []
    },
    {
      "cell_type": "code",
      "source": [
        "total_pred_df = pandas.concat(pred_df_list, axis=0)\n",
        "total_pred_df.head(10)\n"
      ],
      "metadata": {
        "id": "lf0CR3vfyg5b"
      },
      "execution_count": null,
      "outputs": []
    },
    {
      "cell_type": "code",
      "source": [
        "base_df = target_calendar.copy()\n",
        "pred_df = base_df.merge(total_pred_df, on=\"ds\", how=\"left\")\n",
        "pred_df.to_csv(\"output/pred.csv\", index=False)\n"
      ],
      "metadata": {
        "id": "lp7aT0fSyi2V"
      },
      "execution_count": 17,
      "outputs": []
    },
    {
      "cell_type": "code",
      "source": [
        "# 仮想売り上げ\n",
        "# 価格×注文数(注文は100までしか捌けないものとする)\n",
        "pred_df[\"sale\"] = pred_df[\"price\"] * pred_df[\"yhat\"].apply(lambda x: min(x, 100))\n",
        "pred_df[\"sale\"].sum() # 3327615.547636597\n"
      ],
      "metadata": {
        "colab": {
          "base_uri": "https://localhost:8080/"
        },
        "id": "9RM6hgEIylh8",
        "outputId": "10f96408-6e5f-4f69-a51f-cb7204b924fc"
      },
      "execution_count": 18,
      "outputs": [
        {
          "output_type": "execute_result",
          "data": {
            "text/plain": [
              "3327640.1992133274"
            ]
          },
          "metadata": {},
          "execution_count": 18
        }
      ]
    },
    {
      "cell_type": "code",
      "source": [
        "from itertools import permutations\n",
        "def generate_simulation_pattern(predict_df):\n",
        "    # ダイナミックプライシングでシミュレーションする価格のデータを生成\n",
        "    df = predict_df.copy()\n",
        "    base_price = int(predict_df[\"price\"].mean())\n",
        "    pattern = [0.8, 0.9, 1.0, 1.1, 1.2]\n",
        "    for weekday, holiday in permutations(pattern, 2):\n",
        "        df.loc[df[\"weekday\"] <= 4, \"price\"] = base_price * weekday\n",
        "        df.loc[df[\"weekday\"] >= 5, \"price\"] = base_price * holiday\n",
        "        yield df\n",
        "\n",
        "def calc_pred_sale(df):\n",
        "    # 売上の計算\n",
        "    sale = df[\"price\"] * df[\"yhat\"].apply(lambda x: min(x, 100))\n",
        "    return sale.sum()\n",
        "\n",
        "train_range = 10\n",
        "predict_range = 1\n",
        "start_week_id = 1\n",
        "origin_pred_df_list = []\n",
        "best_pred_df_list = []\n",
        "for i in range(40):\n",
        "    end_week_id = start_week_id + train_range\n",
        "    predict_week_id = end_week_id + predict_range\n",
        "    train_df = target_calendar[target_calendar[\"week_id\"].apply(lambda x: start_week_id <= x <= end_week_id)]\n",
        "    predict_df = target_calendar[target_calendar[\"week_id\"] == predict_week_id]\n",
        "    model = Prophet(weekly_seasonality=True)\n",
        "    model.add_regressor(\"price\")\n",
        "    model.fit(train_df)\n",
        "\n",
        "    # 元々の設定価格での予測結果\n",
        "    pred = model.predict(predict_df)[[\"ds\", \"yhat\"]]\n",
        "    origin_pred_df_list.append(pred)\n",
        "\n",
        "    # ダイナミックプライシングで最適な価格を計算した場合での予測結果\n",
        "    best_sale = 0\n",
        "    best_pred = None\n",
        "    for simulated_df in generate_simulation_pattern(predict_df):\n",
        "        # 価格を変化させて予測する\n",
        "        pred = model.predict(simulated_df)[[\"ds\", \"yhat\"]].merge(\n",
        "            simulated_df[[\"ds\", \"price\"]], on=\"ds\", how=\"inner\"\n",
        "        )\n",
        "        # 売上の計算\n",
        "        sale = calc_pred_sale(pred)\n",
        "        # 売上が改善されたらそのときの価格を記録しておく\n",
        "        if best_sale <= sale:\n",
        "            best_pred = pred\n",
        "            best_sale = sale\n",
        "    best_pred_df_list.append(best_pred)\n",
        "    start_week_id += 1\n"
      ],
      "metadata": {
        "id": "qQ8_hBhayorB"
      },
      "execution_count": null,
      "outputs": []
    },
    {
      "cell_type": "code",
      "source": [
        "base_df = target_calendar.copy().rename(columns={\"price\": \"origin_price\"})\n",
        "best_df = pandas.concat(best_pred_df_list, axis=0)\n",
        "origin_df = pandas.concat(origin_pred_df_list, axis=0).rename(columns={\"yhat\": \"origin_price_yhat\"})\n",
        "summary = base_df.merge(\n",
        "    best_df, on=\"ds\", how=\"left\"\n",
        ").merge(\n",
        "    origin_df, on=\"ds\", how=\"left\"\n",
        ")\n",
        "summary[\"origin_order\"] = summary[\"origin_price_yhat\"].apply(lambda x: min(x, 100))\n",
        "summary[\"origin_price_sale\"] = summary[\"origin_price\"] * summary[\"origin_order\"]\n",
        "summary[\"best_order\"] = summary[\"yhat\"].apply(lambda x: min(x, 100))\n",
        "summary[\"best_price_sale\"] = summary[\"price\"] * summary[\"best_order\"]\n",
        "print(summary[\"origin_price_sale\"].sum(), summary[\"best_price_sale\"].sum())\n",
        "summary.to_csv(\"output/best_pred.csv\", index=False)\n"
      ],
      "metadata": {
        "id": "w83wG7_-y99w"
      },
      "execution_count": null,
      "outputs": []
    },
    {
      "cell_type": "code",
      "source": [],
      "metadata": {
        "id": "CX-qZthxzCUf"
      },
      "execution_count": null,
      "outputs": []
    }
  ]
}